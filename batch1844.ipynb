{
 "cells": [
  {
   "cell_type": "code",
   "execution_count": 1,
   "id": "1b8a8e2f",
   "metadata": {},
   "outputs": [
    {
     "name": "stdout",
     "output_type": "stream",
     "text": [
      "Hello Team\n"
     ]
    }
   ],
   "source": [
    "print (\"Hello Team\")"
   ]
  },
  {
   "cell_type": "code",
   "execution_count": 2,
   "id": "c078b71a",
   "metadata": {},
   "outputs": [
    {
     "name": "stdout",
     "output_type": "stream",
     "text": [
      "Royal challangers bangalore\n"
     ]
    }
   ],
   "source": [
    "print (\"Royal challangers bangalore\")"
   ]
  },
  {
   "cell_type": "code",
   "execution_count": 3,
   "id": "7941440c",
   "metadata": {},
   "outputs": [
    {
     "name": "stdout",
     "output_type": "stream",
     "text": [
      "Ullu pungu\n"
     ]
    }
   ],
   "source": [
    "print(\"Ullu pungu\")"
   ]
  },
  {
   "cell_type": "code",
   "execution_count": null,
   "id": "38f4aa82",
   "metadata": {},
   "outputs": [],
   "source": []
  }
 ],
 "metadata": {
  "kernelspec": {
   "display_name": "Python 3 (ipykernel)",
   "language": "python",
   "name": "python3"
  },
  "language_info": {
   "codemirror_mode": {
    "name": "ipython",
    "version": 3
   },
   "file_extension": ".py",
   "mimetype": "text/x-python",
   "name": "python",
   "nbconvert_exporter": "python",
   "pygments_lexer": "ipython3",
   "version": "3.9.7"
  }
 },
 "nbformat": 4,
 "nbformat_minor": 5
}
